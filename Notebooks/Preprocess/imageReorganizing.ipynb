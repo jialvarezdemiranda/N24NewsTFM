{
 "cells": [
  {
   "cell_type": "code",
   "execution_count": 10,
   "metadata": {},
   "outputs": [],
   "source": [
    "import shutil\n",
    "import pandas as pd\n",
    "import os\n",
    "\n",
    "df_train=pd.read_csv('../../data/splitted/train.csv')\n",
    "df_validation=pd.read_csv('../../data/splitted/validation.csv')\n",
    "df_test=pd.read_csv('../../data/splitted/test.csv')"
   ]
  },
  {
   "cell_type": "code",
   "execution_count": 11,
   "metadata": {},
   "outputs": [],
   "source": [
    "# Define paths\n",
    "src_folder = '../../images'\n",
    "train_folder = '../../Images/train'\n",
    "validation_folder = '../../Images/validation'\n",
    "test_folder = '../../Images/test'\n",
    "\n",
    "def createLabelsSubfolders(parent_dir, df):\n",
    "    for label in df['labels_text'].unique():\n",
    "        path = os.path.join(parent_dir, label)\n",
    "        os.mkdir(path)\n",
    "\n",
    "createLabelsSubfolders(train_folder, df_train)\n",
    "createLabelsSubfolders(validation_folder, df_validation)\n",
    "createLabelsSubfolders(test_folder, df_test)"
   ]
  },
  {
   "cell_type": "code",
   "execution_count": 15,
   "metadata": {},
   "outputs": [],
   "source": [
    "import tqdm"
   ]
  },
  {
   "cell_type": "code",
   "execution_count": 18,
   "metadata": {},
   "outputs": [],
   "source": [
    "def copyDF(df, src_folder, dst_folder):\n",
    "    # Iterate through train dataframe and copy images to train folder\n",
    "    for i, row in df.iterrows():\n",
    "        label = row[\"labels_text\"]\n",
    "        img_id = row[\"image_id\"]\n",
    "        src_path = f\"{src_folder}/{img_id}.jpg\"\n",
    "        dst_path = f\"{dst_folder}/{label}/{img_id}.jpg\"\n",
    "        shutil.copy(src_path, dst_path)\n",
    "\n",
    "#copyDF(df_train, src_folder, train_folder)"
   ]
  },
  {
   "cell_type": "code",
   "execution_count": 19,
   "metadata": {},
   "outputs": [],
   "source": [
    "copyDF(df_validation, src_folder, validation_folder)\n",
    "copyDF(df_test, src_folder, test_folder)"
   ]
  },
  {
   "cell_type": "code",
   "execution_count": 20,
   "metadata": {},
   "outputs": [
    {
     "name": "stdout",
     "output_type": "stream",
     "text": [
      "48180\n",
      "6022\n",
      "6023\n"
     ]
    }
   ],
   "source": [
    "print(len(df_train))\n",
    "print(len(df_validation))\n",
    "print(len(df_test))"
   ]
  },
  {
   "cell_type": "code",
   "execution_count": 24,
   "metadata": {},
   "outputs": [
    {
     "name": "stdout",
     "output_type": "stream",
     "text": [
      "Number of files in train folder: 48180\n",
      "Number of files in validation folder: 6022\n",
      "Number of files in test folder: 6023\n"
     ]
    }
   ],
   "source": [
    "import fnmatch\n",
    "\n",
    "def count_files_in_folder(folder_path):\n",
    "    count = 0\n",
    "    for label in df_train['labels_text'].unique():\n",
    "        subfolder=f'{folder_path}/{label}'\n",
    "        for filename in os.listdir(subfolder):\n",
    "            if not fnmatch.fnmatch(filename, '.*'): # exclude special files\n",
    "                file_path = os.path.join(subfolder, filename)\n",
    "                if os.path.isfile(file_path):\n",
    "                    count += 1\n",
    "    return count\n",
    "\n",
    "train_count = count_files_in_folder(train_folder)\n",
    "validation_count = count_files_in_folder(validation_folder)\n",
    "test_count = count_files_in_folder(test_folder)\n",
    "\n",
    "print(f\"Number of files in train folder: {train_count}\")\n",
    "print(f\"Number of files in validation folder: {validation_count}\")\n",
    "print(f\"Number of files in test folder: {test_count}\")"
   ]
  }
 ],
 "metadata": {
  "kernelspec": {
   "display_name": "Python 3.10 (XPython Raw)",
   "language": "python",
   "name": "xpython-raw"
  },
  "language_info": {
   "file_extension": ".py",
   "mimetype": "text/x-python",
   "name": "python",
   "version": "3.10.9"
  },
  "orig_nbformat": 4
 },
 "nbformat": 4,
 "nbformat_minor": 2
}
